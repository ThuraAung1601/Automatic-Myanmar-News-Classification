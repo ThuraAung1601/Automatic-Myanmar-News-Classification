{
  "nbformat": 4,
  "nbformat_minor": 0,
  "metadata": {
    "colab": {
      "name": "News-Classification.ipynb",
      "provenance": [],
      "collapsed_sections": [
        "B2IxNcGx0KA7",
        "sHY9s9gh0maj",
        "KaZwIKyk1eUo",
        "-JLcmb_l1pu8",
        "-Jd2eK2u1iRS"
      ]
    },
    "kernelspec": {
      "name": "python3",
      "display_name": "Python 3"
    },
    "language_info": {
      "name": "python"
    }
  },
  "cells": [
    {
      "cell_type": "markdown",
      "source": [
        "Dataset : https://github.com/ayehninnkhine/MyanmarNewsClassificationSystem\n",
        "\n",
        "Demo Website : https://share.streamlit.io/thuraaung1601/automatic-myanmar-news-classification/main/app.py\n",
        "\n",
        "Github : https://github.com/ThuraAung1601/Automatic-Myanmar-News-Classification"
      ],
      "metadata": {
        "id": "hoFwvAmn21uP"
      }
    },
    {
      "cell_type": "code",
      "source": [
        "import pandas as pd\n",
        "import numpy as np\n",
        "from matplotlib import pyplot as plt\n",
        "from sklearn.feature_extraction.text import TfidfVectorizer\n",
        "from sklearn.model_selection import train_test_split"
      ],
      "metadata": {
        "id": "toQF-eMHkbW-"
      },
      "execution_count": 1,
      "outputs": []
    },
    {
      "cell_type": "markdown",
      "source": [
        "### Data preparation"
      ],
      "metadata": {
        "id": "8IseFn5p1z3u"
      }
    },
    {
      "cell_type": "code",
      "source": [
        "dataset = \"./mm-news-classification-dataset.csv\""
      ],
      "metadata": {
        "id": "Pjl6r4vpMYCx"
      },
      "execution_count": 2,
      "outputs": []
    },
    {
      "cell_type": "code",
      "source": [
        "data = pd.read_csv(dataset)\n",
        "print(data.head())"
      ],
      "metadata": {
        "colab": {
          "base_uri": "https://localhost:8080/"
        },
        "id": "C5cEOwIjMTEI",
        "outputId": "d8a4d88e-6daa-465f-c4f1-8da1b2ea693b"
      },
      "execution_count": 3,
      "outputs": [
        {
          "output_type": "stream",
          "name": "stdout",
          "text": [
            "   Unnamed: 0                                               News  Category\n",
            "0           0  ဒီမိုကရေစီ_ရ_မှ_အမျှဝေ_ပါ_ဟု_မဝင်းမော်ဦး_တောင်...  Politics\n",
            "1           1  ဒီမိုကရေစီ_အရေး_လူ့အခွင့်အရေး_တောင်းဆို_ဆန္ဒပြ...  Politics\n",
            "2           2  ၂၀၁၅_ခုနှစ်_အထွေထွေရွေးကောက်ပွဲ_တွင်_အမျိုးသား...  Politics\n",
            "3           3  လာမည့်_စက်တင်ဘာ_၁၉_ရက်_တွင်_မဝင်းမော်ဦး_ကျဆုံး...  Politics\n",
            "4           4  တပ်မတော်ကာကွယ်ရေးဦးစီးချုပ်_ဗိုလ်ချုပ်မှူးကြီး...  Politics\n"
          ]
        }
      ]
    },
    {
      "cell_type": "code",
      "source": [
        "data.isnull().sum()\n"
      ],
      "metadata": {
        "colab": {
          "base_uri": "https://localhost:8080/"
        },
        "id": "7EvKVTDWNRI1",
        "outputId": "2d0c1f34-7aee-4059-c54b-73d42b96c2bd"
      },
      "execution_count": 4,
      "outputs": [
        {
          "output_type": "execute_result",
          "data": {
            "text/plain": [
              "Unnamed: 0    0\n",
              "News          0\n",
              "Category      0\n",
              "dtype: int64"
            ]
          },
          "metadata": {},
          "execution_count": 4
        }
      ]
    },
    {
      "cell_type": "code",
      "source": [
        "data['category_id'] = data['Category'].factorize()[0]\n",
        "colslist = ['Index','News', 'Category', 'category_id']\n",
        "data.columns = colslist\n",
        "data.groupby('Category').Index.count().plot.bar(ylim=0)"
      ],
      "metadata": {
        "colab": {
          "base_uri": "https://localhost:8080/",
          "height": 359
        },
        "id": "5GaEbXWJNY6I",
        "outputId": "17678703-2d72-4fd8-a65c-cb847ead755c"
      },
      "execution_count": 5,
      "outputs": [
        {
          "output_type": "execute_result",
          "data": {
            "text/plain": [
              "<matplotlib.axes._subplots.AxesSubplot at 0x7fa2feeec6d0>"
            ]
          },
          "metadata": {},
          "execution_count": 5
        },
        {
          "output_type": "display_data",
          "data": {
            "image/png": "[encoded data removed]",
            "text/plain": [
              "<Figure size 432x288 with 1 Axes>"
            ]
          },
          "metadata": {
            "needs_background": "light"
          }
        }
      ]
    },
    {
      "cell_type": "code",
      "source": [
        "stopwordslist = []\n",
        "slist = []\n",
        "with open(\"./stop_words.txt\", encoding = 'utf8') as stopwordsfile:\n",
        "    stopwords = stopwordsfile.readlines()\n",
        "    slist.extend(stopwords)\n",
        "\n",
        "    for w in range(len(slist)):\n",
        "        temp = slist[w]\n",
        "        stopwordslist.append(temp.rstrip())\n"
      ],
      "metadata": {
        "id": "EeNVew5TZN2X"
      },
      "execution_count": 6,
      "outputs": []
    },
    {
      "cell_type": "code",
      "source": [
        "# import pyidaungsu as pds\n",
        "# import re\n",
        "# CleanPattern = re.compile(r'\\d+|[၊။!-/:-@[-`{-~\\t ]|[A-za-z0-9]')\n",
        "# def clean_sentence(sentence):\n",
        "#     sent = CleanPattern.sub(\" \",sentence)\n",
        "#     return sent\n",
        "\n",
        "def stop_word(sentence):\n",
        "  new_sentence = []\n",
        "  for word in sentence.split():\n",
        "    if word not in stopwordslist:\n",
        "      new_sentence.append(word)\n",
        "  return(' '.join(new_sentence))\n",
        "\n",
        "\n",
        "#def tokenize(line):\n",
        "#    sentence = pds.tokenize(line,form=\"word\")\n",
        "#    sentence = ' '.join([str(elem) for elem in sentence])\n",
        "#    sentence = stop_word(sentence)\n",
        "#    return sentence\n",
        "       \n",
        "def clean_sentence(sentence):\n",
        "  sentence = sentence.replace(\"_\",\" \")\n",
        "  return sentence\n",
        "\n",
        "data['News'] = data['News'].apply(stop_word)\n",
        "data['News'] = data['News'].apply(clean_sentence)\n",
        "data.head(10)"
      ],
      "metadata": {
        "colab": {
          "base_uri": "https://localhost:8080/",
          "height": 363
        },
        "id": "BeMZFKPtYSo7",
        "outputId": "f5b71f21-46b7-4174-dfb5-410c96d649aa"
      },
      "execution_count": 7,
      "outputs": [
        {
          "output_type": "execute_result",
          "data": {
            "text/html": [
              "\n",
              "  <div id=\"df-ce501743-e932-42c1-8ef1-c20bb1f66c3b\">\n",
              "    <div class=\"colab-df-container\">\n",
              "      <div>\n",
              "<style scoped>\n",
              "    .dataframe tbody tr th:only-of-type {\n",
              "        vertical-align: middle;\n",
              "    }\n",
              "\n",
              "    .dataframe tbody tr th {\n",
              "        vertical-align: top;\n",
              "    }\n",
              "\n",
              "    .dataframe thead th {\n",
              "        text-align: right;\n",
              "    }\n",
              "</style>\n",
              "<table border=\"1\" class=\"dataframe\">\n",
              "  <thead>\n",
              "    <tr style=\"text-align: right;\">\n",
              "      <th></th>\n",
              "      <th>Index</th>\n",
              "      <th>News</th>\n",
              "      <th>Category</th>\n",
              "      <th>category_id</th>\n",
              "    </tr>\n",
              "  </thead>\n",
              "  <tbody>\n",
              "    <tr>\n",
              "      <th>0</th>\n",
              "      <td>0</td>\n",
              "      <td>ဒီမိုကရေစီ ရ မှ အမျှဝေ ပါ ဟု မဝင်းမော်ဦး တောင်...</td>\n",
              "      <td>Politics</td>\n",
              "      <td>0</td>\n",
              "    </tr>\n",
              "    <tr>\n",
              "      <th>1</th>\n",
              "      <td>1</td>\n",
              "      <td>ဒီမိုကရေစီ အရေး လူ့အခွင့်အရေး တောင်းဆို ဆန္ဒပြ...</td>\n",
              "      <td>Politics</td>\n",
              "      <td>0</td>\n",
              "    </tr>\n",
              "    <tr>\n",
              "      <th>2</th>\n",
              "      <td>2</td>\n",
              "      <td>၂၀၁၅ ခုနှစ် အထွေထွေရွေးကောက်ပွဲ တွင် အမျိုးသား...</td>\n",
              "      <td>Politics</td>\n",
              "      <td>0</td>\n",
              "    </tr>\n",
              "    <tr>\n",
              "      <th>3</th>\n",
              "      <td>3</td>\n",
              "      <td>လာမည့် စက်တင်ဘာ ၁၉ ရက် တွင် မဝင်းမော်ဦး ကျဆုံး...</td>\n",
              "      <td>Politics</td>\n",
              "      <td>0</td>\n",
              "    </tr>\n",
              "    <tr>\n",
              "      <th>4</th>\n",
              "      <td>4</td>\n",
              "      <td>တပ်မတော်ကာကွယ်ရေးဦးစီးချုပ် ဗိုလ်ချုပ်မှူးကြီး...</td>\n",
              "      <td>Politics</td>\n",
              "      <td>0</td>\n",
              "    </tr>\n",
              "    <tr>\n",
              "      <th>5</th>\n",
              "      <td>5</td>\n",
              "      <td>ထို တွေ့ဆုံ မှု တွင် မြန်မာနိုင်ငံ ငြိမ်းချမ်း...</td>\n",
              "      <td>Politics</td>\n",
              "      <td>0</td>\n",
              "    </tr>\n",
              "    <tr>\n",
              "      <th>6</th>\n",
              "      <td>6</td>\n",
              "      <td>ယနေ့ တွင် နေ့ချင်းပြန်ခရီး စဉ် အဖြစ် မြန်မာနို...</td>\n",
              "      <td>Politics</td>\n",
              "      <td>0</td>\n",
              "    </tr>\n",
              "    <tr>\n",
              "      <th>7</th>\n",
              "      <td>7</td>\n",
              "      <td>အလုပ်သမား တွေ နေပြည်တော် ကို ဆက်လက် ချီတက် မယ် ။</td>\n",
              "      <td>Politics</td>\n",
              "      <td>0</td>\n",
              "    </tr>\n",
              "    <tr>\n",
              "      <th>8</th>\n",
              "      <td>8</td>\n",
              "      <td>မန္တလေး တိုင်းဒေသကြီး စဉ့်ကိုင် မြို့ ဖါးလင်ပိ...</td>\n",
              "      <td>Politics</td>\n",
              "      <td>0</td>\n",
              "    </tr>\n",
              "    <tr>\n",
              "      <th>9</th>\n",
              "      <td>9</td>\n",
              "      <td>ခုံသမာဓိ ကောင်စီ ရဲ့ ကြားနာ စစ်ဆေးမှု ကို ခံယူ...</td>\n",
              "      <td>Politics</td>\n",
              "      <td>0</td>\n",
              "    </tr>\n",
              "  </tbody>\n",
              "</table>\n",
              "</div>\n",
              "      <button class=\"colab-df-convert\" onclick=\"convertToInteractive('df-ce501743-e932-42c1-8ef1-c20bb1f66c3b')\"\n",
              "              title=\"Convert this dataframe to an interactive table.\"\n",
              "              style=\"display:none;\">\n",
              "        \n",
              "  <svg xmlns=\"http://www.w3.org/2000/svg\" height=\"24px\"viewBox=\"0 0 24 24\"\n",
              "       width=\"24px\">\n",
              "    <path d=\"M0 0h24v24H0V0z\" fill=\"none\"/>\n",
              "    <path d=\"M18.56 5.44l.94 2.06.94-2.06 2.06-.94-2.06-.94-.94-2.06-.94 2.06-2.06.94zm-11 1L8.5 8.5l.94-2.06 2.06-.94-2.06-.94L8.5 2.5l-.94 2.06-2.06.94zm10 10l.94 2.06.94-2.06 2.06-.94-2.06-.94-.94-2.06-.94 2.06-2.06.94z\"/><path d=\"M17.41 7.96l-1.37-1.37c-.4-.4-.92-.59-1.43-.59-.52 0-1.04.2-1.43.59L10.3 9.45l-7.72 7.72c-.78.78-.78 2.05 0 2.83L4 21.41c.39.39.9.59 1.41.59.51 0 1.02-.2 1.41-.59l7.78-7.78 2.81-2.81c.8-.78.8-2.07 0-2.86zM5.41 20L4 18.59l7.72-7.72 1.47 1.35L5.41 20z\"/>\n",
              "  </svg>\n",
              "      </button>\n",
              "      \n",
              "  <style>\n",
              "    .colab-df-container {\n",
              "      display:flex;\n",
              "      flex-wrap:wrap;\n",
              "      gap: 12px;\n",
              "    }\n",
              "\n",
              "    .colab-df-convert {\n",
              "      background-color: #E8F0FE;\n",
              "      border: none;\n",
              "      border-radius: 50%;\n",
              "      cursor: pointer;\n",
              "      display: none;\n",
              "      fill: #1967D2;\n",
              "      height: 32px;\n",
              "      padding: 0 0 0 0;\n",
              "      width: 32px;\n",
              "    }\n",
              "\n",
              "    .colab-df-convert:hover {\n",
              "      background-color: #E2EBFA;\n",
              "      box-shadow: 0px 1px 2px rgba(60, 64, 67, 0.3), 0px 1px 3px 1px rgba(60, 64, 67, 0.15);\n",
              "      fill: #174EA6;\n",
              "    }\n",
              "\n",
              "    [theme=dark] .colab-df-convert {\n",
              "      background-color: #3B4455;\n",
              "      fill: #D2E3FC;\n",
              "    }\n",
              "\n",
              "    [theme=dark] .colab-df-convert:hover {\n",
              "      background-color: #434B5C;\n",
              "      box-shadow: 0px 1px 3px 1px rgba(0, 0, 0, 0.15);\n",
              "      filter: drop-shadow(0px 1px 2px rgba(0, 0, 0, 0.3));\n",
              "      fill: #FFFFFF;\n",
              "    }\n",
              "  </style>\n",
              "\n",
              "      <script>\n",
              "        const buttonEl =\n",
              "          document.querySelector('#df-ce501743-e932-42c1-8ef1-c20bb1f66c3b button.colab-df-convert');\n",
              "        buttonEl.style.display =\n",
              "          google.colab.kernel.accessAllowed ? 'block' : 'none';\n",
              "\n",
              "        async function convertToInteractive(key) {\n",
              "          const element = document.querySelector('#df-ce501743-e932-42c1-8ef1-c20bb1f66c3b');\n",
              "          const dataTable =\n",
              "            await google.colab.kernel.invokeFunction('convertToInteractive',\n",
              "                                                     [key], {});\n",
              "          if (!dataTable) return;\n",
              "\n",
              "          const docLinkHtml = 'Like what you see? Visit the ' +\n",
              "            '<a target=\"_blank\" href=https://colab.research.google.com/notebooks/data_table.ipynb>data table notebook</a>'\n",
              "            + ' to learn more about interactive tables.';\n",
              "          element.innerHTML = '';\n",
              "          dataTable['output_type'] = 'display_data';\n",
              "          await google.colab.output.renderOutput(dataTable, element);\n",
              "          const docLink = document.createElement('div');\n",
              "          docLink.innerHTML = docLinkHtml;\n",
              "          element.appendChild(docLink);\n",
              "        }\n",
              "      </script>\n",
              "    </div>\n",
              "  </div>\n",
              "  "
            ],
            "text/plain": [
              "   Index  ... category_id\n",
              "0      0  ...           0\n",
              "1      1  ...           0\n",
              "2      2  ...           0\n",
              "3      3  ...           0\n",
              "4      4  ...           0\n",
              "5      5  ...           0\n",
              "6      6  ...           0\n",
              "7      7  ...           0\n",
              "8      8  ...           0\n",
              "9      9  ...           0\n",
              "\n",
              "[10 rows x 4 columns]"
            ]
          },
          "metadata": {},
          "execution_count": 7
        }
      ]
    },
    {
      "cell_type": "code",
      "execution_count": 8,
      "metadata": {
        "id": "fcc99695"
      },
      "outputs": [],
      "source": [
        "data = data[[\"News\", \"Category\"]]\n",
        "\n",
        "x = np.array(data[\"News\"])\n",
        "y = np.array(data[\"Category\"])"
      ]
    },
    {
      "cell_type": "code",
      "source": [
        "vectorizer = TfidfVectorizer()\n",
        "X = vectorizer.fit_transform(x)"
      ],
      "metadata": {
        "id": "v0tB4xSlfeGN"
      },
      "execution_count": 9,
      "outputs": []
    },
    {
      "cell_type": "code",
      "source": [
        "import pickle\n",
        "pickle.dump(vectorizer, open(\"vectorizer.pickle\", \"wb\"))"
      ],
      "metadata": {
        "id": "3c3VEefWcubb"
      },
      "execution_count": 10,
      "outputs": []
    },
    {
      "cell_type": "code",
      "source": [
        "X_train, X_test, y_train, y_test = train_test_split(X, y, test_size=0.2, random_state=440)"
      ],
      "metadata": {
        "id": "ASJopf6UXlYx"
      },
      "execution_count": 11,
      "outputs": []
    },
    {
      "cell_type": "markdown",
      "source": [
        "### Naive Bayes "
      ],
      "metadata": {
        "id": "B2IxNcGx0KA7"
      }
    },
    {
      "cell_type": "code",
      "execution_count": 12,
      "metadata": {
        "id": "290c3389",
        "outputId": "e2a79a00-95cc-409b-f964-5e5185b8d7d1",
        "colab": {
          "base_uri": "https://localhost:8080/"
        }
      },
      "outputs": [
        {
          "output_type": "execute_result",
          "data": {
            "text/plain": [
              "MultinomialNB()"
            ]
          },
          "metadata": {},
          "execution_count": 12
        }
      ],
      "source": [
        "from sklearn.naive_bayes import MultinomialNB\n",
        "\n",
        "model = MultinomialNB()\n",
        "model.fit(X_train,y_train)"
      ]
    },
    {
      "cell_type": "code",
      "source": [
        "# predict\n",
        "y_pred = model.predict(X_test)"
      ],
      "metadata": {
        "id": "2quuFvRuR98-"
      },
      "execution_count": 13,
      "outputs": []
    },
    {
      "cell_type": "code",
      "source": [
        "# confusion matrix and accuracy\n",
        "\n",
        "from sklearn import metrics\n",
        "from sklearn.metrics import classification_report \n",
        "\n",
        "print(f\"Classification report for classifier {model}:\\n\"\n",
        "      f\"{metrics.classification_report(y_test, y_pred)}\\n\")"
      ],
      "metadata": {
        "colab": {
          "base_uri": "https://localhost:8080/"
        },
        "id": "UVLDJrpXRSsQ",
        "outputId": "1a0f8104-6377-44fd-9dca-90503c730bd1"
      },
      "execution_count": 14,
      "outputs": [
        {
          "output_type": "stream",
          "name": "stdout",
          "text": [
            "Classification report for classifier MultinomialNB():\n",
            "               precision    recall  f1-score   support\n",
            "\n",
            "     Business       0.72      0.78      0.75       412\n",
            "Entertainment       0.80      0.80      0.80       415\n",
            "     Politics       0.72      0.74      0.73       383\n",
            "       Sports       0.85      0.77      0.81       413\n",
            "\n",
            "     accuracy                           0.77      1623\n",
            "    macro avg       0.78      0.77      0.77      1623\n",
            " weighted avg       0.78      0.77      0.77      1623\n",
            "\n",
            "\n"
          ]
        }
      ]
    },
    {
      "cell_type": "markdown",
      "source": [
        "### Linear SVM"
      ],
      "metadata": {
        "id": "sHY9s9gh0maj"
      }
    },
    {
      "cell_type": "code",
      "source": [
        "# Import classifiers and performance metrics\n",
        "from sklearn import svm, metrics\n",
        "\n",
        "# linear kernel model\n",
        "\n",
        "svm_model = svm.SVC(kernel='linear')\n",
        "svm_model.fit(X_train, y_train)\n",
        "\n",
        "# predict\n",
        "y_pred = svm_model.predict(X_test)"
      ],
      "metadata": {
        "id": "PqfOxTQU9vIc"
      },
      "execution_count": 70,
      "outputs": []
    },
    {
      "cell_type": "code",
      "source": [
        "# confusion matrix and accuracy\n",
        "\n",
        "from sklearn import metrics\n",
        "from sklearn.metrics import classification_report \n",
        "\n",
        "print(f\"Classification report for classifier {svm_model}:\\n\"\n",
        "      f\"{metrics.classification_report(y_test, y_pred)}\\n\")"
      ],
      "metadata": {
        "colab": {
          "base_uri": "https://localhost:8080/"
        },
        "id": "ysrSrhlY-vjG",
        "outputId": "93414141-1e14-4029-c073-05e9f4291633"
      },
      "execution_count": 71,
      "outputs": [
        {
          "output_type": "stream",
          "name": "stdout",
          "text": [
            "Classification report for classifier SVC(kernel='linear'):\n",
            "               precision    recall  f1-score   support\n",
            "\n",
            "     Business       0.76      0.75      0.76       412\n",
            "Entertainment       0.74      0.83      0.78       415\n",
            "     Politics       0.69      0.76      0.72       383\n",
            "       Sports       0.90      0.73      0.81       413\n",
            "\n",
            "     accuracy                           0.77      1623\n",
            "    macro avg       0.77      0.77      0.77      1623\n",
            " weighted avg       0.78      0.77      0.77      1623\n",
            "\n",
            "\n"
          ]
        }
      ]
    },
    {
      "cell_type": "markdown",
      "source": [
        "### Random Forest "
      ],
      "metadata": {
        "id": "KaZwIKyk1eUo"
      }
    },
    {
      "cell_type": "code",
      "source": [
        "from sklearn.ensemble import RandomForestClassifier\n",
        "\n",
        "# Random forest classifier\n",
        "rf_model = RandomForestClassifier(n_estimators=100, n_jobs=1)\n",
        "rf_model.fit(X_train,y_train)\n",
        "\n",
        "# predict\n",
        "y_pred = rf_model.predict(X_test)"
      ],
      "metadata": {
        "id": "blkLzOMLFpL9"
      },
      "execution_count": null,
      "outputs": []
    },
    {
      "cell_type": "code",
      "source": [
        "# confusion matrix and accuracy\n",
        "\n",
        "from sklearn import metrics\n",
        "from sklearn.metrics import classification_report \n",
        "\n",
        "print(f\"Classification report for classifier {rf_model}:\\n\"\n",
        "      f\"{metrics.classification_report(y_test, y_pred)}\\n\")"
      ],
      "metadata": {
        "colab": {
          "base_uri": "https://localhost:8080/"
        },
        "id": "Lw9sJzlxHWBD",
        "outputId": "b0540656-3a4d-4994-d290-27a46459a656"
      },
      "execution_count": null,
      "outputs": [
        {
          "output_type": "stream",
          "name": "stdout",
          "text": [
            "Classification report for classifier RandomForestClassifier(n_jobs=1):\n",
            "               precision    recall  f1-score   support\n",
            "\n",
            "     Business       0.76      0.75      0.75       412\n",
            "Entertainment       0.74      0.83      0.78       415\n",
            "     Politics       0.68      0.72      0.70       383\n",
            "       Sports       0.88      0.73      0.80       413\n",
            "\n",
            "     accuracy                           0.76      1623\n",
            "    macro avg       0.77      0.76      0.76      1623\n",
            " weighted avg       0.77      0.76      0.76      1623\n",
            "\n",
            "\n"
          ]
        }
      ]
    },
    {
      "cell_type": "markdown",
      "source": [
        "### Decision Tree"
      ],
      "metadata": {
        "id": "-JLcmb_l1pu8"
      }
    },
    {
      "cell_type": "code",
      "source": [
        "from sklearn.tree import DecisionTreeClassifier\n",
        "\n",
        "dt_model = DecisionTreeClassifier(random_state=0)\n",
        "dt_model.fit(X_train,y_train)\n",
        "\n",
        "# predict\n",
        "y_pred = dt_model.predict(X_test)"
      ],
      "metadata": {
        "id": "j48GgUZqHbBF"
      },
      "execution_count": null,
      "outputs": []
    },
    {
      "cell_type": "code",
      "source": [
        "# confusion matrix and accuracy\n",
        "\n",
        "from sklearn import metrics\n",
        "from sklearn.metrics import classification_report \n",
        "\n",
        "print(f\"Classification report for classifier {dt_model}:\\n\"\n",
        "      f\"{metrics.classification_report(y_test, y_pred)}\\n\")"
      ],
      "metadata": {
        "colab": {
          "base_uri": "https://localhost:8080/"
        },
        "id": "hwrlX85QH2Ig",
        "outputId": "abd91c8d-f00e-45a1-c382-bcd4525e3487"
      },
      "execution_count": null,
      "outputs": [
        {
          "output_type": "stream",
          "name": "stdout",
          "text": [
            "Classification report for classifier DecisionTreeClassifier(random_state=0):\n",
            "               precision    recall  f1-score   support\n",
            "\n",
            "     Business       0.62      0.61      0.61       412\n",
            "Entertainment       0.66      0.68      0.67       415\n",
            "     Politics       0.54      0.59      0.56       383\n",
            "       Sports       0.74      0.67      0.70       413\n",
            "\n",
            "     accuracy                           0.64      1623\n",
            "    macro avg       0.64      0.64      0.64      1623\n",
            " weighted avg       0.64      0.64      0.64      1623\n",
            "\n",
            "\n"
          ]
        }
      ]
    },
    {
      "cell_type": "markdown",
      "source": [
        "### KNN"
      ],
      "metadata": {
        "id": "-Jd2eK2u1iRS"
      }
    },
    {
      "cell_type": "code",
      "source": [
        "from sklearn.neighbors import KNeighborsClassifier\n",
        "error = []\n",
        "best_k = dict()\n",
        "\n",
        "# Calculating error for K values between 1 and 20\n",
        "for i in range(1, 20):\n",
        "    knn = KNeighborsClassifier(n_neighbors=i, n_jobs=-1)\n",
        "    knn.fit(X_train, y_train)\n",
        "    pred_i = knn.predict(X_test)\n",
        "    error.append(np.mean(pred_i != y_test))\n",
        "    best_k[i] = np.mean(pred_i != y_test)\n",
        "    \n",
        "best_k = sorted(best_k.items(), key=lambda k: k[1])[0][0]\n",
        "knn_classifier = KNeighborsClassifier(n_neighbors=best_k, n_jobs=-1)\n",
        "knn_classifier.fit(X_train, y_train)\n",
        "y_pred = knn_classifier.predict(X_test)"
      ],
      "metadata": {
        "id": "w6tofWVrIQqz"
      },
      "execution_count": null,
      "outputs": []
    },
    {
      "cell_type": "code",
      "source": [
        "import matplotlib.pyplot as plt\n",
        "\n",
        "plt.figure(figsize=(12, 6))\n",
        "plt.plot(range(1, 20), error, color='red', linestyle='dashdot', marker='o',markerfacecolor='green', markersize=10)\n",
        "plt.title('Error Rate K Value')\n",
        "plt.xlabel('K Value')\n",
        "plt.ylabel('Mean Error')\n",
        "plt.show()"
      ],
      "metadata": {
        "colab": {
          "base_uri": "https://localhost:8080/",
          "height": 404
        },
        "id": "-nyJcsNVInu1",
        "outputId": "c670ba57-8aa1-4fb6-d17e-a663a6eda25c"
      },
      "execution_count": null,
      "outputs": [
        {
          "output_type": "display_data",
          "data": {
            "image/png": "[encoded data removed]",
            "text/plain": [
              "<Figure size 864x432 with 1 Axes>"
            ]
          },
          "metadata": {
            "needs_background": "light"
          }
        }
      ]
    },
    {
      "cell_type": "code",
      "source": [
        "# confusion matrix and accuracy\n",
        "\n",
        "from sklearn import metrics\n",
        "from sklearn.metrics import classification_report \n",
        "\n",
        "print(f\"Classification report for classifier {knn_classifier}:\\n\"\n",
        "      f\"{metrics.classification_report(y_test, y_pred)}\\n\")"
      ],
      "metadata": {
        "colab": {
          "base_uri": "https://localhost:8080/"
        },
        "id": "FkDutc8kIrqx",
        "outputId": "8c4f931f-abf1-4d57-c3d2-0404213f7fb6"
      },
      "execution_count": null,
      "outputs": [
        {
          "output_type": "stream",
          "name": "stdout",
          "text": [
            "Classification report for classifier KNeighborsClassifier(n_jobs=-1, n_neighbors=2):\n",
            "               precision    recall  f1-score   support\n",
            "\n",
            "     Business       0.65      0.60      0.62       412\n",
            "Entertainment       0.50      0.80      0.61       415\n",
            "     Politics       0.66      0.58      0.62       383\n",
            "       Sports       0.90      0.50      0.64       413\n",
            "\n",
            "     accuracy                           0.62      1623\n",
            "    macro avg       0.68      0.62      0.62      1623\n",
            " weighted avg       0.68      0.62      0.62      1623\n",
            "\n",
            "\n"
          ]
        }
      ]
    },
    {
      "cell_type": "markdown",
      "source": [
        "### Post-processing"
      ],
      "metadata": {
        "id": "ejrxYOKN2Scy"
      }
    },
    {
      "cell_type": "code",
      "source": [
        "# save the model to disk\n",
        "import pickle\n",
        "\n",
        "filename = 'nb_model.sav'\n",
        "pickle.dump(model, open(filename, 'wb'))\n",
        "\n",
        "# load the model from disk\n",
        "loaded_model = pickle.load(open(filename, 'rb'))"
      ],
      "metadata": {
        "id": "eqhzRO67IzQN"
      },
      "execution_count": 59,
      "outputs": []
    },
    {
      "cell_type": "code",
      "source": [
        "! pip install pyidaungsu "
      ],
      "metadata": {
        "id": "09IiMFbau1Ny"
      },
      "execution_count": null,
      "outputs": []
    },
    {
      "cell_type": "code",
      "source": [
        "line = \"ဒီကနေ့ ဒီဇင်ဘာလ ၂၁ ရက်နေ့ နေ့လယ်ပိုင်းမှာလည်း ရေဦးနဲ့ တန့်ဆည်မြို့နယ် နယ်နမိတ်ထိစပ်နေတဲ့နေရာနားက လိပ်ခြံရွာက ပီဒီအက်ဖ်စခန်းတွေလို့ ယူဆတဲ့နေရာတွေကို စစ်ကောင်စီတပ်ရဲ့ ရဟတ်ယာဉ်တွေက ပစ်ခတ်တာတွေ ဆက်လုပ်ခဲ့တယ်လို့ ဒေသခံတွေထံက သိရပါတယ်။\""
      ],
      "metadata": {
        "id": "oaxUseLEviBk"
      },
      "execution_count": 42,
      "outputs": []
    },
    {
      "cell_type": "code",
      "source": [
        "stopwordslist = []\n",
        "slist = []\n",
        "with open(\"./stop_words.txt\", encoding = 'utf8') as stopwordsfile:\n",
        "    stopwords = stopwordsfile.readlines()\n",
        "    slist.extend(stopwords)\n",
        "\n",
        "    for w in range(len(slist)):\n",
        "        temp = slist[w]\n",
        "        stopwordslist.append(temp.rstrip())\n"
      ],
      "metadata": {
        "id": "8m8FXyx8xkFE"
      },
      "execution_count": 32,
      "outputs": []
    },
    {
      "cell_type": "code",
      "source": [
        "def stop_word(sentence):\n",
        "  new_sentence = []\n",
        "  for word in sentence.split():\n",
        "    if word not in stopwordslist:\n",
        "      new_sentence.append(word)\n",
        "  return(' '.join(new_sentence))"
      ],
      "metadata": {
        "id": "UypfZVHfxkFG"
      },
      "execution_count": 33,
      "outputs": []
    },
    {
      "cell_type": "code",
      "source": [
        "import pyidaungsu as pds\n",
        "\n",
        "def tokenize(line):\n",
        "    sentence = pds.tokenize(line,form=\"word\")\n",
        "    sentence = ' '.join([str(elem) for elem in sentence])\n",
        "    sentence = stop_word(sentence)\n",
        "    return sentence"
      ],
      "metadata": {
        "id": "P1snC2NE2jsC"
      },
      "execution_count": null,
      "outputs": []
    },
    {
      "cell_type": "code",
      "source": [
        "tokenize(line)"
      ],
      "metadata": {
        "colab": {
          "base_uri": "https://localhost:8080/",
          "height": 70
        },
        "id": "htTGYa8Ovlkk",
        "outputId": "1e0633b9-414a-4362-e644-0cc187d24aac"
      },
      "execution_count": 43,
      "outputs": [
        {
          "output_type": "execute_result",
          "data": {
            "application/vnd.google.colaboratory.intrinsic+json": {
              "type": "string"
            },
            "text/plain": [
              "'ဒီ က နေ့ ဒီဇင်ဘာ လ ၂၁ ရက်နေ့ နေ့လယ် ပိုင်း မှာ လည်း ရေဦး နဲ့ တန့်ဆည် မြို့နယ် နယ်နမိတ် ထိစပ် နေ နေရာ နားကလိပ်ခြံ ရွာ က ပီဒီအက်ဖ်စခန်း တွေ လို့ ယူဆ နေရာ တွေ ကို စစ်ကောင်စီ တပ် ရဲ့ ရဟတ်ယာဉ် တွေ က ပစ်ခတ် တာ တွေ ဆက်လုပ် ခဲ့ တယ် လို့ ဒေသခံ တွေ ထံ က သိရ ပါ တယ် ။'"
            ]
          },
          "metadata": {},
          "execution_count": 43
        }
      ]
    },
    {
      "cell_type": "code",
      "source": [
        "user = input(\"Enter a Text: \")\n",
        "user = tokenize(user)\n",
        "data = vectorizer.transform([user]).toarray()\n",
        "output = loaded_model.predict(data)\n",
        "print(output)"
      ],
      "metadata": {
        "id": "QFiTpHpivoce"
      },
      "execution_count": null,
      "outputs": []
    }
  ]
}